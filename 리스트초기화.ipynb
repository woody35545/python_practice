{
  "nbformat": 4,
  "nbformat_minor": 0,
  "metadata": {
    "colab": {
      "name": "리스트초기화.ipynb",
      "provenance": [],
      "authorship_tag": "ABX9TyMRaOzmgoH4cLu18rDGPAmg",
      "include_colab_link": true
    },
    "kernelspec": {
      "name": "python3",
      "display_name": "Python 3"
    },
    "language_info": {
      "name": "python"
    }
  },
  "cells": [
    {
      "cell_type": "markdown",
      "metadata": {
        "id": "view-in-github",
        "colab_type": "text"
      },
      "source": [
        "<a href=\"https://colab.research.google.com/github/woody35545/python_practice/blob/master/%EB%A6%AC%EC%8A%A4%ED%8A%B8%EC%B4%88%EA%B8%B0%ED%99%94.ipynb\" target=\"_parent\"><img src=\"https://colab.research.google.com/assets/colab-badge.svg\" alt=\"Open In Colab\"/></a>"
      ]
    },
    {
      "cell_type": "markdown",
      "source": [
        "# 파이썬 n 차원 리스트 초기화"
      ],
      "metadata": {
        "id": "NqPPzfvxFHXz"
      }
    },
    {
      "cell_type": "code",
      "source": [
        "# 2차원 리스트 초기화\n",
        "\n",
        "# 3x5 크기의 2차원 list 선언\n",
        "list_a = [[0 for _ in range(3)] for _ in range(5)] \n",
        "print(list_a)\n",
        "\n",
        "for i in range(5):\n",
        "  print(f\"id(list_a[{i}]) = {id(list_a[i])}\")"
      ],
      "metadata": {
        "colab": {
          "base_uri": "https://localhost:8080/"
        },
        "id": "dEsYjc1CFJ5r",
        "outputId": "98f6f7f5-e04b-48ff-baca-6e11b377821a"
      },
      "execution_count": 12,
      "outputs": [
        {
          "output_type": "stream",
          "name": "stdout",
          "text": [
            "[[0, 0, 0], [0, 0, 0], [0, 0, 0], [0, 0, 0], [0, 0, 0]]\n",
            "id(list_a[0]) = 139915154707632\n",
            "id(list_a[1]) = 139915154540896\n",
            "id(list_a[2]) = 139915153916864\n",
            "id(list_a[3]) = 139915154054672\n",
            "id(list_a[4]) = 139915153906576\n"
          ]
        }
      ]
    },
    {
      "cell_type": "code",
      "source": [
        "# 다른 방식으로 3x5 리스트 초기화\n",
        "list_b = [[0]*3 for _ in range(5)]\n",
        "print(list_b)\n",
        "\n",
        "for i in range(5):\n",
        "  print(f\"id(list_b[{i}]) = {id(list_b[i])}\")\n"
      ],
      "metadata": {
        "colab": {
          "base_uri": "https://localhost:8080/"
        },
        "id": "6yD-k9csF1Se",
        "outputId": "a606ae89-54d7-499b-b500-449c8e1862ae"
      },
      "execution_count": 11,
      "outputs": [
        {
          "output_type": "stream",
          "name": "stdout",
          "text": [
            "[[0, 0, 0], [0, 0, 0], [0, 0, 0], [0, 0, 0], [0, 0, 0]]\n",
            "id(list_b[0]) = 139915153979104\n",
            "id(list_b[1]) = 139915154653904\n",
            "id(list_b[2]) = 139915154149120\n",
            "id(list_b[3]) = 139915153904496\n",
            "id(list_b[4]) = 139915154541056\n"
          ]
        }
      ]
    },
    {
      "cell_type": "code",
      "source": [
        "# 아래와 같이 선언하면 각 row들이 모두 같은 객체로 인식되는 문제가 발생함.\n",
        "list_c = [[0]*3]*5\n",
        "print(list_c)\n",
        "\n",
        "# list_c 의 (0,1) 값을 99로 변경\n",
        "list_c[0][1] = 99\n",
        "\n",
        "# list_c 의 모든 (*,1) 값들이 99로 변경되게 됨\n",
        "print(list_c)\n",
        "\n",
        "# 각 row에 대한 id 값 확인해보면, 서로 다른 column임에도 불구하고 동일한 id 값을 가지게 되는 것을 볼 수 있음\n",
        "for i in range(5):\n",
        "  print(f\"id(list_c[{i}]) = {id(list_c[i])}\")"
      ],
      "metadata": {
        "colab": {
          "base_uri": "https://localhost:8080/"
        },
        "id": "08XrVu_IGM-0",
        "outputId": "c6b6650a-3ff8-43f9-d2e7-10b265895d46"
      },
      "execution_count": 10,
      "outputs": [
        {
          "output_type": "stream",
          "name": "stdout",
          "text": [
            "[[0, 0, 0], [0, 0, 0], [0, 0, 0], [0, 0, 0], [0, 0, 0]]\n",
            "[[0, 99, 0], [0, 99, 0], [0, 99, 0], [0, 99, 0], [0, 99, 0]]\n",
            "id(list_c[0]) = 139915154540576\n",
            "id(list_c[1]) = 139915154540576\n",
            "id(list_c[2]) = 139915154540576\n",
            "id(list_c[3]) = 139915154540576\n",
            "id(list_c[4]) = 139915154540576\n"
          ]
        }
      ]
    }
  ]
}