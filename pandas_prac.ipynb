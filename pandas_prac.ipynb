{
  "cells": [
    {
      "cell_type": "markdown",
      "metadata": {
        "id": "view-in-github",
        "colab_type": "text"
      },
      "source": [
        "<a href=\"https://colab.research.google.com/github/woody35545/python_practice/blob/master/pandas_prac.ipynb\" target=\"_parent\"><img src=\"https://colab.research.google.com/assets/colab-badge.svg\" alt=\"Open In Colab\"/></a>"
      ]
    },
    {
      "cell_type": "markdown",
      "id": "4be98df5",
      "metadata": {
        "id": "4be98df5"
      },
      "source": [
        "# [ pandas practice ]\n",
        "\n",
        "* 판다스의 세가지 데이터 구조\n",
        "- Series: 1차원 구조\n",
        "- DataFrame: 2차원 구조(Series 들이 모여서 만들어지는 구조)\n",
        "- Panel: 3차원 구조(DataFrame들이 모여서 만들어지는 구조)\n"
      ]
    },
    {
      "cell_type": "code",
      "execution_count": 2,
      "id": "f219ed33",
      "metadata": {
        "id": "f219ed33"
      },
      "outputs": [],
      "source": [
        "import pandas as pd "
      ]
    },
    {
      "cell_type": "markdown",
      "id": "fa4896ab",
      "metadata": {
        "id": "fa4896ab"
      },
      "source": [
        "## 1 차원 데이터 Series"
      ]
    },
    {
      "cell_type": "code",
      "execution_count": 3,
      "id": "fcf6403b",
      "metadata": {
        "id": "fcf6403b"
      },
      "outputs": [],
      "source": [
        "# Value에 해당하는 list와 Value 들의 Index에 해당하는 list로 Series 생성\n",
        "sr = pd.Series([17000,18000,1000,5000],\n",
        "              index = [\"피자\", \"치킨\", \"콜라\", \"맥주\"])"
      ]
    },
    {
      "cell_type": "code",
      "execution_count": 4,
      "id": "1921fa04",
      "metadata": {
        "colab": {
          "base_uri": "https://localhost:8080/"
        },
        "id": "1921fa04",
        "outputId": "dca5b695-a1b7-43dc-a43a-be7e80d3d9cf"
      },
      "outputs": [
        {
          "output_type": "stream",
          "name": "stdout",
          "text": [
            "series: \n",
            "---------------\n",
            "피자    17000\n",
            "치킨    18000\n",
            "콜라     1000\n",
            "맥주     5000\n",
            "dtype: int64\n"
          ]
        }
      ],
      "source": [
        "# 생성한 Series 출력\n",
        "print('series: ')\n",
        "print(\"-\"*15)\n",
        "print(sr)"
      ]
    },
    {
      "cell_type": "code",
      "execution_count": 5,
      "id": "d9849b9c",
      "metadata": {
        "colab": {
          "base_uri": "https://localhost:8080/"
        },
        "id": "d9849b9c",
        "outputId": "e49cfcc2-94b8-4e37-f34c-6f484f200d8f"
      },
      "outputs": [
        {
          "output_type": "stream",
          "name": "stdout",
          "text": [
            "series Values: [17000 18000  1000  5000]\n",
            "series Index: Index(['피자', '치킨', '콜라', '맥주'], dtype='object')\n"
          ]
        }
      ],
      "source": [
        "print(\"series Values: {}\".format(sr.values))\n",
        "print(\"series Index: {}\".format(sr.index))"
      ]
    },
    {
      "cell_type": "markdown",
      "id": "15026f0a",
      "metadata": {
        "id": "15026f0a"
      },
      "source": [
        "----"
      ]
    },
    {
      "cell_type": "markdown",
      "id": "c4c8be8d",
      "metadata": {
        "id": "c4c8be8d"
      },
      "source": [
        "## 2차원 데이터 DataFrame"
      ]
    },
    {
      "cell_type": "code",
      "execution_count": null,
      "id": "141816c6",
      "metadata": {
        "id": "141816c6"
      },
      "outputs": [],
      "source": [
        ""
      ]
    }
  ],
  "metadata": {
    "kernelspec": {
      "display_name": "Python 3",
      "language": "python",
      "name": "python3"
    },
    "language_info": {
      "codemirror_mode": {
        "name": "ipython",
        "version": 3
      },
      "file_extension": ".py",
      "mimetype": "text/x-python",
      "name": "python",
      "nbconvert_exporter": "python",
      "pygments_lexer": "ipython3",
      "version": "3.8.8"
    },
    "colab": {
      "name": "pandas_prac.ipynb",
      "provenance": [],
      "include_colab_link": true
    }
  },
  "nbformat": 4,
  "nbformat_minor": 5
}