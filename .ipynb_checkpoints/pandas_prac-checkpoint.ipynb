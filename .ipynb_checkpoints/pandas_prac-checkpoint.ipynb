{
 "cells": [
  {
   "cell_type": "markdown",
   "id": "4be98df5",
   "metadata": {},
   "source": [
    "# pandas practice"
   ]
  },
  {
   "cell_type": "code",
   "execution_count": 1,
   "id": "f219ed33",
   "metadata": {},
   "outputs": [],
   "source": [
    "import pandas as pd "
   ]
  },
  {
   "cell_type": "markdown",
   "id": "fa4896ab",
   "metadata": {},
   "source": [
    "## 1 차원 데이터 Series"
   ]
  },
  {
   "cell_type": "code",
   "execution_count": 3,
   "id": "fcf6403b",
   "metadata": {},
   "outputs": [],
   "source": [
    "sr = pd.Series([17000,18000,1000,5000],\n",
    "              index = [\"피자\", \"치킨\", \"콜라\", \"맥주\"])"
   ]
  },
  {
   "cell_type": "code",
   "execution_count": 4,
   "id": "1921fa04",
   "metadata": {},
   "outputs": [
    {
     "name": "stdout",
     "output_type": "stream",
     "text": [
      "series: \n",
      "---------------\n",
      "피자    17000\n",
      "치킨    18000\n",
      "콜라     1000\n",
      "맥주     5000\n",
      "dtype: int64\n"
     ]
    }
   ],
   "source": [
    "print('series: ')\n",
    "print(\"-\"*15)\n",
    "print(sr)"
   ]
  },
  {
   "cell_type": "code",
   "execution_count": 5,
   "id": "d9849b9c",
   "metadata": {},
   "outputs": [
    {
     "name": "stdout",
     "output_type": "stream",
     "text": [
      "series Values: [17000 18000  1000  5000]\n",
      "series Index: Index(['피자', '치킨', '콜라', '맥주'], dtype='object')\n"
     ]
    }
   ],
   "source": [
    "print(\"series Values: {}\".format(sr.values))\n",
    "print(\"series Index: {}\".format(sr.index))"
   ]
  },
  {
   "cell_type": "markdown",
   "id": "15026f0a",
   "metadata": {},
   "source": [
    "----"
   ]
  },
  {
   "cell_type": "markdown",
   "id": "c4c8be8d",
   "metadata": {},
   "source": [
    "## 2차원 데이터 DataFrame"
   ]
  },
  {
   "cell_type": "code",
   "execution_count": null,
   "id": "141816c6",
   "metadata": {},
   "outputs": [],
   "source": []
  }
 ],
 "metadata": {
  "kernelspec": {
   "display_name": "Python 3",
   "language": "python",
   "name": "python3"
  },
  "language_info": {
   "codemirror_mode": {
    "name": "ipython",
    "version": 3
   },
   "file_extension": ".py",
   "mimetype": "text/x-python",
   "name": "python",
   "nbconvert_exporter": "python",
   "pygments_lexer": "ipython3",
   "version": "3.8.8"
  }
 },
 "nbformat": 4,
 "nbformat_minor": 5
}
